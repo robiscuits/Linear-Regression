{
 "cells": [
  {
   "cell_type": "code",
   "execution_count": 1,
   "metadata": {},
   "outputs": [],
   "source": [
    "import numpy as np\n",
    "import pandas as pd\n",
    "from matplotlib import pyplot as plt\n",
    "from regression import get_dataset\n",
    "from regression import print_stats\n",
    "from regression import regression\n",
    "from regression import gradient_descent\n",
    "from regression import iterate_gradient\n",
    "from regression import compute_betas\n",
    "from regression import predict\n",
    "from regression import synthetic_datasets\n",
    "from regression import plot_mse"
   ]
  },
  {
   "cell_type": "code",
   "execution_count": 2,
   "metadata": {},
   "outputs": [
    {
     "data": {
      "text/plain": [
       "array([[12.6   ,  1.0708, 23.    , ..., 32.    , 27.4   , 17.1   ],\n",
       "       [ 6.9   ,  1.0853, 22.    , ..., 30.5   , 28.9   , 18.2   ],\n",
       "       [24.6   ,  1.0414, 22.    , ..., 28.8   , 25.2   , 16.6   ],\n",
       "       ...,\n",
       "       [28.3   ,  1.0328, 72.    , ..., 31.3   , 27.2   , 18.    ],\n",
       "       [25.3   ,  1.0399, 72.    , ..., 30.5   , 29.4   , 19.8   ],\n",
       "       [30.7   ,  1.0271, 74.    , ..., 33.7   , 30.    , 20.9   ]])"
      ]
     },
     "execution_count": 2,
     "metadata": {},
     "output_type": "execute_result"
    }
   ],
   "source": [
    "dataset = get_dataset(\"bodyfat.csv\")\n",
    "dataset"
   ]
  },
  {
   "cell_type": "code",
   "execution_count": 3,
   "metadata": {},
   "outputs": [
    {
     "data": {
      "text/plain": [
       "(252, 16)"
      ]
     },
     "execution_count": 3,
     "metadata": {},
     "output_type": "execute_result"
    }
   ],
   "source": [
    "dataset.shape"
   ]
  },
  {
   "cell_type": "code",
   "execution_count": 4,
   "metadata": {},
   "outputs": [
    {
     "name": "stdout",
     "output_type": "stream",
     "text": [
      "252\n",
      "1.06\n",
      "0.02\n"
     ]
    }
   ],
   "source": [
    "print_stats(dataset,1)"
   ]
  },
  {
   "cell_type": "code",
   "execution_count": 5,
   "metadata": {},
   "outputs": [
    {
     "data": {
      "text/plain": [
       "418.50384920634923"
      ]
     },
     "execution_count": 5,
     "metadata": {},
     "output_type": "execute_result"
    }
   ],
   "source": [
    "regression(dataset, cols=[2,3], betas=[0,0,0])"
   ]
  },
  {
   "cell_type": "code",
   "execution_count": 6,
   "metadata": {},
   "outputs": [
    {
     "data": {
      "text/plain": [
       "11859.17408611111"
      ]
     },
     "execution_count": 6,
     "metadata": {},
     "output_type": "execute_result"
    }
   ],
   "source": [
    "regression(dataset, cols=[2,3,4], betas=[0,-1.1,-.2,3])"
   ]
  },
  {
   "cell_type": "code",
   "execution_count": 7,
   "metadata": {},
   "outputs": [
    {
     "data": {
      "text/plain": [
       "array([  -37.87698413, -1756.37222222, -7055.35138889])"
      ]
     },
     "execution_count": 7,
     "metadata": {},
     "output_type": "execute_result"
    }
   ],
   "source": [
    "gradient_descent(dataset, cols=[2,3], betas=[0,0,0])"
   ]
  },
  {
   "cell_type": "code",
   "execution_count": 8,
   "metadata": {},
   "outputs": [
    {
     "data": {
      "text/plain": [
       "array([  212.69928571,  9097.25626984, 37643.40848413, 15009.96069444])"
      ]
     },
     "execution_count": 8,
     "metadata": {},
     "output_type": "execute_result"
    }
   ],
   "source": [
    "gradient_descent(dataset, cols=[2,3,4], betas=[0,-1.1,-.2,3])"
   ]
  },
  {
   "cell_type": "code",
   "execution_count": 9,
   "metadata": {},
   "outputs": [
    {
     "name": "stdout",
     "output_type": "stream",
     "text": [
      "1 423085332.40 394.45 -405.84 -220.18\n",
      "2 229744495.73 398.54 -401.54 163.14\n",
      "3 124756241.68 395.53 -404.71 -119.33\n",
      "4 67745350.04 397.75 -402.37 88.82\n",
      "5 36787203.39 396.11 -404.09 -64.57\n",
      "6 19976260.50 397.32 -402.82 48.47\n",
      "7 10847555.07 396.43 -403.76 -34.83\n",
      "8 5890470.68 397.09 -403.07 26.55\n",
      "9 3198666.69 396.60 -403.58 -18.68\n",
      "10 1736958.93 396.96 -403.20 14.65\n"
     ]
    }
   ],
   "source": [
    "iterate_gradient(dataset, cols=[1,8], betas=[400,-400,300], T=10, eta=1e-4)"
   ]
  },
  {
   "cell_type": "code",
   "execution_count": 21,
   "metadata": {
    "scrolled": true
   },
   "outputs": [
    {
     "data": {
      "text/plain": [
       "(1.4029395600144448,\n",
       " 441.35259435956186,\n",
       " -400.59549536886107,\n",
       " 0.009892204826171282)"
      ]
     },
     "execution_count": 21,
     "metadata": {},
     "output_type": "execute_result"
    }
   ],
   "source": [
    "compute_betas(dataset, cols=[1,2])"
   ]
  },
  {
   "cell_type": "code",
   "execution_count": 23,
   "metadata": {},
   "outputs": [
    {
     "data": {
      "text/plain": [
       "17.93538556100129"
      ]
     },
     "execution_count": 23,
     "metadata": {},
     "output_type": "execute_result"
    }
   ],
   "source": [
    "predict(dataset, cols=[3,4], features=[180, 72])"
   ]
  },
  {
   "cell_type": "code",
   "execution_count": null,
   "metadata": {
    "scrolled": true
   },
   "outputs": [],
   "source": [
    "synthetic_datasets(np.array([0,2]), np.array([0,1]), np.array([[4]]), 1)"
   ]
  },
  {
   "cell_type": "code",
   "execution_count": null,
   "metadata": {
    "scrolled": true
   },
   "outputs": [],
   "source": [
    "plot_mse()"
   ]
  }
 ],
 "metadata": {
  "kernelspec": {
   "display_name": "Python 3",
   "language": "python",
   "name": "python3"
  },
  "language_info": {
   "codemirror_mode": {
    "name": "ipython",
    "version": 3
   },
   "file_extension": ".py",
   "mimetype": "text/x-python",
   "name": "python",
   "nbconvert_exporter": "python",
   "pygments_lexer": "ipython3",
   "version": "3.7.6"
  }
 },
 "nbformat": 4,
 "nbformat_minor": 4
}
